{
  "nbformat": 4,
  "nbformat_minor": 0,
  "metadata": {
    "colab": {
      "provenance": []
    },
    "kernelspec": {
      "name": "python3",
      "display_name": "Python 3"
    },
    "language_info": {
      "name": "python"
    }
  },
  "cells": [
    {
      "cell_type": "markdown",
      "source": [
        "# Data Types and Structures theoreticals Questions\n",
        "\n",
        "---\n",
        "\n"
      ],
      "metadata": {
        "id": "48Lxg58T_B2v"
      }
    },
    {
      "cell_type": "markdown",
      "source": [
        "\n",
        "\n",
        "1.    **What are data structures, and why are they important?**\n",
        "\n",
        "      - A data structure is a way of organizing and storing data so it can be used efficiently.\n",
        "\n",
        "* **Why Are Data Structures Important**\n",
        "\n",
        " *   Organize data clearly and meaningfully.\n",
        " *    Improve performance (faster searching, sorting, etc.)\n",
        " *   Make code easier to read and maintain.\n",
        " *    Help in problem-solving and building real-world apps.\n",
        "\n",
        "\n",
        "\n",
        "\n"
      ],
      "metadata": {
        "id": "4E6xVDM9__uq"
      }
    },
    {
      "cell_type": "markdown",
      "source": [
        "\n",
        "\n",
        "2.    **Explain the difference between mutable and immutable data types with examples**\n",
        "\n",
        "     - **Mutable Data Types –** You can modify them\n",
        "\n",
        "       **like as->** list, dict, set\n",
        "\n",
        "       **Example: list (Mutable)**\n",
        "\n",
        "            my_list = [1, 2, 3]\n",
        "            my_list[0] = 10   # Change the first element\n",
        "            print(my_list)   # Output: [10, 2, 3]         \n",
        "\n",
        "\n",
        " - **Immutable Data Types –** You cannot modify them directly\n",
        "\n",
        "  **like as->** int, float, str, tuple\n",
        "  \n",
        "  **Example: str (Immutable)**\n",
        "         my_str = \"hello\"\n",
        "         # my_str[0] = \"H\"   # This will cause an error\n",
        "         new_str = \"H\" + my_str[1:]  # Create a new string\n",
        "         print(new_str)    # Output: Hello\n",
        "\n",
        "\n",
        "\n"
      ],
      "metadata": {
        "id": "4gGTuAkcCp_7"
      }
    },
    {
      "cell_type": "markdown",
      "source": [
        "\n",
        "\n",
        "3.  ** What are the main differences between lists and tuples in Python**\n",
        "\n",
        "     - **Main Differences Between Lists and Tuples:**\n",
        "         \n",
        "                Feature                      List                       Tuple\n",
        "\n",
        "             Mutable\t             Yes (can be changed)\t  No (cannot be changed)\n",
        "             Syntax\t                Square brackets []     \tRound brackets ()\n",
        "             Performance\t          Slightly slower\t       Faster (because it's fixed)\n",
        "             Use case\t        When data may need to change\tWhen data should stay constant\n",
        "             Methods\t         Many built-in methods           Fewer built-in methods\n",
        "                              (append(), remove(), etc.)\t   \n",
        "\n",
        "\n"
      ],
      "metadata": {
        "id": "sqy2yb33LVcR"
      }
    },
    {
      "cell_type": "markdown",
      "source": [
        "\n",
        "\n",
        "4.   **Describe how dictionaries store data.**\n",
        "     \n",
        "       -  A dictionary is a built-in Python data structure that stores data in key-value pairs.\n",
        "\n",
        "               student = {\n",
        "                   \"name\": \"Sumit\",\n",
        "                   \"age\": 22,\n",
        "                   \"course\": \"Python\"\n",
        "              }\n",
        "\n",
        "\n",
        "*   \"name\" → key, \"Sumit\" → value\n",
        "*   \"age\" → key, 22 → value\n",
        "*   \"course\" → key, \"Python\" → value\n",
        "\n",
        "\n"
      ],
      "metadata": {
        "id": "rlkIUf6uQyRR"
      }
    },
    {
      "cell_type": "markdown",
      "source": [
        "\n",
        "\n",
        "5.   **Why might you use a set instead of a list in Python.**\n",
        "\n",
        "     - **Quick Comparison:**\n",
        "\n",
        "                 Feature\t           List\t                   Set\n",
        "              \n",
        "               Allows Duplicates\t    Yes\t                    No\n",
        "               Ordered\t            Yes (since Python 3.7)\t   No guaranteed order\n",
        "               Mutable\t            Yes\t                      Yes\n",
        "               Fast lookup\t        Slower\t                   Faster\n",
        "\n",
        "*  **When to Use:**\n",
        "   \n",
        "   - Use a set when you need unique values and fast lookups.\n",
        "\n",
        "   - Use a list when you care about order or want duplicates.\n"
      ],
      "metadata": {
        "id": "w1h7BUVHS76C"
      }
    },
    {
      "cell_type": "markdown",
      "source": [
        "\n",
        "\n",
        "6.   **What is a string in Python, and how is it different from a list.**\n",
        "     \n",
        "       - **String in Python:**\n",
        "\n",
        "       A string is a sequence of characters enclosed in quotes (' ' or \" \").\n",
        "\n",
        "                    text = \"Hello\"\n",
        "\n",
        "  \n",
        "\n",
        "*   It stores text\n",
        "*   Each character has a position (index).\n",
        "*   Strings are immutable (can’t be changed directly)\\\n",
        "\n",
        "     - **List in Python:**\n",
        "\n",
        "     A list is an ordered collection of items (can be numbers, strings, etc.)\n",
        "\n",
        "\n",
        "           my_list = ['H', 'e', 'l', 'l', 'o']\n",
        "\n",
        "*   It can store any data types\n",
        "\n",
        "*   Lists are mutable (you can change, add, or remove items)  \n",
        "\n",
        "\n",
        "\n",
        "\n",
        "\n"
      ],
      "metadata": {
        "id": "zuvlxIbOWMYW"
      }
    },
    {
      "cell_type": "markdown",
      "source": [
        "\n",
        "\n",
        "7.   **How do tuples ensure data integrity in Python**\n",
        "\n",
        "       -  **A tuple is immutable** —\n",
        "       \n",
        "           once it’s created, you cannot change, add, or remove any of its elements.\n",
        "\n",
        "                     person = (\"Sumit\", 25, \"Python Developer\")\n",
        "                     # person[1] = 30   Not allowed — will raise an error\n",
        "\n",
        "\n"
      ],
      "metadata": {
        "id": "llV0lzlBY_1F"
      }
    },
    {
      "cell_type": "markdown",
      "source": [
        "\n",
        "\n",
        "8.   **What is a hash table, and how does it relate to dictionaries in Python**\n",
        "\n",
        "        - **Hash Table:**\n",
        "            \n",
        "            A hash table is a data structure that stores key-value pairs.\n",
        "            \n",
        "            - just like a real-world dictionary.\n",
        "\n",
        "            * Take a key\n",
        "            * Convert it into a unique number (called a hash code)\n",
        "            * Use that number to decide where to store the value in memory\n",
        "\n",
        "    - **How Does This Relate to Dictionaries**\n",
        "\n",
        "      - Python’s built-in dict is implemented using a hash table behind the scenes\n",
        "\n",
        "      So when you write:\n",
        "\n",
        "                      student = {\"name\": \"Sumit\", \"age\": 22}\n",
        "\n",
        "        * Hashes the key (\"name\", \"age\")\n",
        "        * Stores each value in memory based on the hash\n",
        "        * Uses the hash table to retrieve values in constant time (very fast)\n",
        "\n",
        "\n",
        "\n",
        "\n",
        "\n",
        "\n",
        "\n",
        "\n",
        "\n"
      ],
      "metadata": {
        "id": "3ZGs9HWrdEej"
      }
    },
    {
      "cell_type": "markdown",
      "source": [
        "\n",
        "\n",
        "9.   **Can lists contain different data types in Python**\n",
        "\n",
        "      - Lists in Python can contain different data types\n",
        "          - that’s one of their superpowers\n",
        "\n",
        "\n",
        "              my_list = [\"Sumit\", 25, 5.9, True, None]\n",
        "              print(my_list)\n",
        "\n"
      ],
      "metadata": {
        "id": "HtD6gHQnhAoF"
      }
    },
    {
      "cell_type": "markdown",
      "source": [
        "\n",
        "\n",
        "10.   **Explain why strings are immutable in Python**\n",
        "\n",
        "        -  **Immutable Mean:**\n",
        "           \n",
        "           When we say strings are immutable in Python, we mean:\n",
        "\n",
        "            - You cannot change the characters inside a string once it's created.\n",
        "\n",
        "        - **Why Are Strings Immutable**\n",
        "\n",
        "          * Security & Safety\n",
        "          * Hashing & Dictionary Keys\n",
        "          *  Performance Boost\n",
        "          * Design Simplicity\n",
        "\n"
      ],
      "metadata": {
        "id": "1pRQbKyujMRN"
      }
    },
    {
      "cell_type": "markdown",
      "source": [
        "\n",
        "\n",
        "11.   **What advantages do dictionaries offer over lists for certain tasks**\n",
        "\n",
        "        - Dictionaries are better when you want to look up data using a key, not just a position.\n",
        "\n",
        "        \n",
        "\n",
        "*   **Dictionary vs List — Key Differences**\n",
        "\n",
        "           Feature\t             List\t                   Dictionary\n",
        "          \n",
        "          Access by\t       Index (numbered positions)\tKey (like a label)\n",
        "          Lookup speed\t    Slower (O(n) in worst case)   Very fast (O(1) on average)\n",
        "          Meaning of each item\tPositional (no name)\t   Clearly labeled with keys\n",
        "          Key uniqueness\t     Not applicable\t           Keys must be unique\n",
        "          Ideal use case\t Ordered collections, sequences\tStructured data with key-value mapping\n",
        "\n"
      ],
      "metadata": {
        "id": "hcR9_CjgmzUE"
      }
    },
    {
      "cell_type": "markdown",
      "source": [
        "\n",
        "\n",
        "12.    **Describe a scenario where using a tuple would be preferable over a list**\n",
        "    - **Scenario: Storing Coordinates**\n",
        "\n",
        "     Suppose you’re making a program that deals with map points or locations, like GPS coordinates:\n",
        "\n",
        "              location = (28.6139, 77.2090)  # (latitude, longitude)\n",
        "\n",
        "       **Tuple Instead of a List**\n",
        "        \n",
        "          * Data Should Not Change\n",
        "              \n",
        "              You don't want someone accidentally changing the location:\n",
        "                  \n",
        "                     location[0] = 30.0000  # ❌ Not allowed (good!)\n",
        "\n",
        "              Tuples protect the data — perfect for fixed values\n",
        "\n",
        "          * Can Be Used as Dictionary Keys\n",
        "             \n",
        "             Tuples can be keys, but lists cannot:\n",
        "\n",
        "                  coordinates = {\n",
        "                        (28.6139, 77.2090): \"New Delhi\"\n",
        "                 }\n",
        "\n",
        "        Useful when mapping positions to names.\n",
        "\n",
        "      *  Faster and More Memory Efficient\n",
        "\n",
        "        Tuples are slightly faster and take less memory than lists — helpful when dealing with many small records.\n",
        "\n",
        "\n"
      ],
      "metadata": {
        "id": "fKi-v5mhpzlO"
      }
    },
    {
      "cell_type": "markdown",
      "source": [
        "13.  **How do sets handle duplicate values in Python**\n",
        "  \n",
        "      - Sets automatically remove duplicate values.\n",
        "\n",
        "      * They only keep unique items — no repetitions allowed\n",
        "\n",
        "\n",
        "\n"
      ],
      "metadata": {
        "id": "kqXV5RYENhb2"
      }
    },
    {
      "cell_type": "markdown",
      "source": [
        "14.  **How does the “in” keyword work differently for lists and dictionaries**\n",
        "\n",
        "       -  The in keyword is used for checking membership\n",
        "       \n",
        "        but it works differently for lists and dictionaries.\n",
        "\n",
        "        **Using in with a List:**\n",
        "\n",
        "            Checks if a value exists in the list.\n",
        "\n",
        "                  my_list = [10, 20, 30]\n",
        "\n",
        "                  print(20 in my_list)  #  True (20 is in the list)\n",
        "                  print(50 in my_list)  #  False  \n",
        "                    \n",
        "  **Using in with a Dictionary:**\n",
        "\n",
        "       Checks if a key exists, not the value.\n",
        "\n",
        "                   my_dict = {\"name\": \"Sumit\", \"age\": 25}\n",
        "\n",
        "                  print(\"name\" in my_dict)     #  True (key is present)\n",
        "                  print(\"Sumit\" in my_dict)    # False (it's a value, not a key)\n",
        "        "
      ],
      "metadata": {
        "id": "eoA_MpACOTUb"
      }
    },
    {
      "cell_type": "markdown",
      "source": [
        "15.   **Can you modify the elements of a tuple? Explain why or why not**\n",
        "\n",
        "       - No, you cannot modify the elements of a tuple.\n",
        "\n",
        "          **Tuple**\n",
        "                 \n",
        "            A tuple in Python is a collection of ordered, fixed values — like a list, but immutable.\n",
        "\n",
        "            **Why Can’t You Modify a Tuple**\n",
        "             \n",
        "            - Tuples are immutable, which means:\n",
        "\n",
        "          - You can’t change, add, or remove items after the tuple is created.\n",
        "\n",
        "* This includes:\n",
        "\n",
        "* No changing values\n",
        "\n",
        "* No appending items\n",
        "\n",
        "* No removing items"
      ],
      "metadata": {
        "id": "cx7cyJ0UPauq"
      }
    },
    {
      "cell_type": "markdown",
      "source": [
        "16.    **What is a nested dictionary, and give an example of its use case**\n",
        "\n",
        "         - **Nested Dictionary:**\n",
        "              \n",
        "              A nested dictionary is a dictionary inside another dictionary.\n",
        "\n",
        "            It allows you to store multiple levels of data, like a dictionary of dictionaries.\n",
        "      \n",
        "       **Example:**\n",
        "\n",
        "                  students = {\n",
        "                        \"101\": {\"name\": \"Sumit\", \"age\": 20, \"grade\": \"A\"},\n",
        "                        \"102\": {\"name\": \"Priya\", \"age\": 21, \"grade\": \"B\"},\n",
        "                        \"103\": {\"name\": \"Amit\", \"age\": 19, \"grade\": \"A+\"}\n",
        "              }"
      ],
      "metadata": {
        "id": "26Nxn7_2SSpC"
      }
    },
    {
      "cell_type": "markdown",
      "source": [
        "17.  **Describe the time complexity of accessing elements in a dictionary**\n",
        "\n",
        "        - **Time Complexity of Accessing Elements in a Dictionary**\n",
        "\n",
        "        *  In Python, accessing an element by key in a dictionary is on average:\n",
        "    \n",
        "    **O(1) — Constant Time**\n",
        "\n",
        "    This means it takes the same time no matter how big the dictionary is.\n",
        "\n",
        "    **Why Is It O(1)**\n",
        "\n",
        "    Python dictionaries use a hash table under the hood.\n",
        "          \n",
        "             value = my_dict[\"key\"]\n",
        "\n",
        "    1. Python hashes the key (like turning it into a number)\n",
        "    2. It jumps directly to the spot in memory where the value is stored\n",
        "    \n",
        "\n",
        "   **Worst Case: O(n)**\n",
        "\n",
        "   In rare cases, due to something called hash collisions, the time can degrade to:\n",
        "\n",
        "   **O(n) — Linear Time**\n",
        "\n",
        "   But Python is smart and handles collisions efficiently, so this is uncommon.\n",
        "\n",
        "\n",
        "                 my_dict = {\"name\": \"Sumit\", \"age\": 25, \"city\": \"Delhi\"}\n",
        "                 print(my_dict[\"age\"])  # my_dict = {\"name\": \"Sumit\", \"age\": 25, \"city\": \"Delhi\"}\n",
        "                 print(my_dict[\"age\"])  #  Accessing in O(1)"
      ],
      "metadata": {
        "id": "NJkowddcT9fO"
      }
    },
    {
      "cell_type": "markdown",
      "source": [
        "18.  **In what situations are lists preferred over dictionaries.**\n",
        "\n",
        "     - **Use a List When:**\n",
        "       \n",
        "       Lists maintain the order of items.\n",
        "\n",
        "              fruits = [\"apple\", \"banana\", \"cherry\"]\n",
        "              print(fruits[0])  # Output: apple (first item)\n",
        "\n",
        "    **Note:>**\n",
        "    \n",
        "      Dictionaries (before Python 3.7) didn’t guarantee order, though now they do — but lists are made for ordered sequences.\n",
        "\n",
        "   **You Need to Store Duplicates:**\n",
        "\n",
        "       Lists allow duplicate values — dictionaries do not allow duplicate keys.\n",
        "\n",
        "\n",
        "                   names = [\"Sumit\", \"Amit\", \"Sumit\"]  #  OK\n",
        "\n"
      ],
      "metadata": {
        "id": "wKtpusorXELj"
      }
    },
    {
      "cell_type": "markdown",
      "source": [
        "19.  **Why are dictionaries considered unordered, and how does that affect data retrieval.**\n",
        "\n",
        "     - **Why Were Dictionaries Considered Unordered**\n",
        "\n",
        "\n",
        "        In older versions of Python (before 3.7), dictionaries were implemented using hash tables.\n",
        "\n",
        "        And The order in which you added key-value pairs was not preserved\n",
        "\n",
        "\n",
        "                          my_dict = {\"a\": 1, \"b\": 2, \"c\": 3}\n",
        "\n",
        "  \n",
        "   **How Does This Affect Data Retrieval**\n",
        "\n",
        "   **List (Ordered):**\n",
        "\n",
        "   You can retrieve by index/position:\n",
        "\n",
        "        my_list = [\"apple\", \"banana\", \"cherry\"]\n",
        "        print(my_list[1])  # Output: banana\n",
        "\n",
        "   **Dictionary (Key-based):**\n",
        "\n",
        "   You retrieve by key, not index:\n",
        "\n",
        "                my_dict = {\"fruit1\": \"apple\", \"fruit2\": \"banana\"}\n",
        "                print(my_dict[\"fruit2\"])  # Output: banana\n",
        "   "
      ],
      "metadata": {
        "id": "rnEuvFMVYqe6"
      }
    },
    {
      "cell_type": "markdown",
      "source": [
        "20.   **Explain the difference between a list and a dictionary in terms of data retrieval.**\n",
        "\n",
        "    - **List — Access by Index (Position)**\n",
        "     \n",
        "     * A list stores a sequence of values.\n",
        "\n",
        "     *  You access items by their position (index), starting at 0.\n",
        "\n",
        "\n",
        "  **Example:**\n",
        "\n",
        "      my_list = [\"apple\", \"banana\", \"cherry\"]\n",
        "      print(my_list[1])  # Output: banana\n",
        "\n",
        "\n",
        "  **Dictionary — Access by Key (Label)**  \n",
        "\n",
        " *  A dictionary stores key-value pairs.\n",
        "\n",
        "*  You access items by their key (like a name or label).\n",
        "\n",
        "\n",
        " **Example:**\n",
        "\n",
        "           my_dict = {\"fruit1\": \"apple\", \"fruit2\": \"banana\"}\n",
        "           print(my_dict[\"fruit2\"])  # Output: banana"
      ],
      "metadata": {
        "id": "UvGH3A-5bMsZ"
      }
    },
    {
      "cell_type": "markdown",
      "source": [
        "\n",
        "\n",
        "---\n",
        "\n",
        "\n",
        "\n",
        "---\n",
        "\n",
        "\n",
        "\n",
        "\n",
        "# Practical Questions\n",
        "\n",
        "\n",
        "---\n",
        "\n"
      ],
      "metadata": {
        "id": "JkmV6XirhnJ8"
      }
    },
    {
      "cell_type": "markdown",
      "source": [
        "1.  **Write a code to create a string with your name and print it.**"
      ],
      "metadata": {
        "id": "DZcVISVeiSWL"
      }
    },
    {
      "cell_type": "code",
      "execution_count": 1,
      "metadata": {
        "id": "AOv94wEkzYkX",
        "colab": {
          "base_uri": "https://localhost:8080/"
        },
        "outputId": "264458fc-48d3-416c-f9e4-1819ccfe971f"
      },
      "outputs": [
        {
          "output_type": "stream",
          "name": "stdout",
          "text": [
            "My name is: Sumit Jayant\n"
          ]
        }
      ],
      "source": [
        "# Creating a string with your name\n",
        "name = \"Sumit Jayant\"\n",
        "\n",
        "# Printing the name\n",
        "print(\"My name is:\", name)"
      ]
    },
    {
      "cell_type": "markdown",
      "source": [
        "2.  **Write a code to find the length of the string \"Hello World\".**"
      ],
      "metadata": {
        "id": "ryDfp1T5iyLW"
      }
    },
    {
      "cell_type": "code",
      "source": [
        "# Define the string\n",
        "text = \"Hello World\"\n",
        "\n",
        "# Find the length using len() function\n",
        "length = len(text)\n",
        "\n",
        "# Print the result\n",
        "print(\"The length of the string is:\", length)"
      ],
      "metadata": {
        "colab": {
          "base_uri": "https://localhost:8080/"
        },
        "id": "Gc9xvJb4inPL",
        "outputId": "da49fab0-b4b6-45fe-ed6b-2288ec373bb2"
      },
      "execution_count": 2,
      "outputs": [
        {
          "output_type": "stream",
          "name": "stdout",
          "text": [
            "The length of the string is: 11\n"
          ]
        }
      ]
    },
    {
      "cell_type": "markdown",
      "source": [
        "3.  **Write a code to slice the first 3 characters from the string \"Python Programming\".**"
      ],
      "metadata": {
        "id": "YviCYzb0jOiz"
      }
    },
    {
      "cell_type": "code",
      "source": [
        "# Define the string\n",
        "text = \"Python Programming\"\n",
        "\n",
        "# Slice the first 3 characters\n",
        "sliced_text = text[:3]\n",
        "\n",
        "# Print the result\n",
        "print(\"The first 3 characters are:\", sliced_text)"
      ],
      "metadata": {
        "colab": {
          "base_uri": "https://localhost:8080/"
        },
        "id": "-ToqvPGojLv-",
        "outputId": "58cf919f-e913-4571-aaec-963e4860c162"
      },
      "execution_count": 3,
      "outputs": [
        {
          "output_type": "stream",
          "name": "stdout",
          "text": [
            "The first 3 characters are: Pyt\n"
          ]
        }
      ]
    },
    {
      "cell_type": "markdown",
      "source": [
        "4.   **Write a code to convert the string \"hello\" to uppercase.**"
      ],
      "metadata": {
        "id": "bEjUVAg3jwkJ"
      }
    },
    {
      "cell_type": "code",
      "source": [
        "# Define the string\n",
        "text = \"hello\"\n",
        "\n",
        "# Convert to uppercase\n",
        "uppercase_text = text.upper()\n",
        "\n",
        "# Print the result\n",
        "print(\"Uppercase version:\", uppercase_text)"
      ],
      "metadata": {
        "colab": {
          "base_uri": "https://localhost:8080/"
        },
        "id": "v-psYs1djq5A",
        "outputId": "922378a4-cbe7-479b-f87c-9b0d2fd069b5"
      },
      "execution_count": 4,
      "outputs": [
        {
          "output_type": "stream",
          "name": "stdout",
          "text": [
            "Uppercase version: HELLO\n"
          ]
        }
      ]
    },
    {
      "cell_type": "markdown",
      "source": [
        "5.  **Write a code to replace the word \"apple\" with \"orange\" in the string \"I like apple\".**"
      ],
      "metadata": {
        "id": "gmKVEvYRkODn"
      }
    },
    {
      "cell_type": "code",
      "source": [
        "# Original string\n",
        "text = \"I like apple\"\n",
        "\n",
        "# Replace 'apple' with 'orange'\n",
        "new_text = text.replace(\"apple\", \"orange\")\n",
        "\n",
        "# Print the result\n",
        "print(\"Updated string:\", new_text)"
      ],
      "metadata": {
        "colab": {
          "base_uri": "https://localhost:8080/"
        },
        "id": "iOuhoc24kHID",
        "outputId": "dc8cb66f-a2c0-44fb-ae3b-cf4730900b7b"
      },
      "execution_count": 5,
      "outputs": [
        {
          "output_type": "stream",
          "name": "stdout",
          "text": [
            "Updated string: I like orange\n"
          ]
        }
      ]
    },
    {
      "cell_type": "markdown",
      "source": [
        "6.   **Write a code to create a list with numbers 1 to 5 and print it.**"
      ],
      "metadata": {
        "id": "4SYZF7baklft"
      }
    },
    {
      "cell_type": "code",
      "source": [
        "# Create a list with numbers 1 to 5\n",
        "numbers = [1, 2, 3, 4, 5]\n",
        "\n",
        "# Print the list\n",
        "print(\"The list is:\", numbers)"
      ],
      "metadata": {
        "colab": {
          "base_uri": "https://localhost:8080/"
        },
        "id": "ZvcqxbgKkhCb",
        "outputId": "419ef3c8-6453-41dd-d555-4ccd2bdfb75e"
      },
      "execution_count": 6,
      "outputs": [
        {
          "output_type": "stream",
          "name": "stdout",
          "text": [
            "The list is: [1, 2, 3, 4, 5]\n"
          ]
        }
      ]
    },
    {
      "cell_type": "markdown",
      "source": [
        "7.   **Write a code to append the number 10 to the list [1, 2, 3, 4].**"
      ],
      "metadata": {
        "id": "df9ZAusLlCpy"
      }
    },
    {
      "cell_type": "code",
      "source": [
        "# Original list\n",
        "numbers = [1, 2, 3, 4]\n",
        "\n",
        "# Append 10 to the list\n",
        "numbers.append(10)\n",
        "\n",
        "# Print the updated list\n",
        "print(\"Updated list:\", numbers)"
      ],
      "metadata": {
        "colab": {
          "base_uri": "https://localhost:8080/"
        },
        "id": "Y5Dv5QhTk-QO",
        "outputId": "43289d52-9173-42a3-f2f4-418cccd8bf2c"
      },
      "execution_count": 7,
      "outputs": [
        {
          "output_type": "stream",
          "name": "stdout",
          "text": [
            "Updated list: [1, 2, 3, 4, 10]\n"
          ]
        }
      ]
    },
    {
      "cell_type": "markdown",
      "source": [
        "8.  **Write a code to remove the number 3 from the list [1, 2, 3, 4, 5].**"
      ],
      "metadata": {
        "id": "jMw9mzpBmNAq"
      }
    },
    {
      "cell_type": "code",
      "source": [
        "# Original list\n",
        "numbers = [1, 2, 3, 4, 5]\n",
        "\n",
        "# Remove the number 3\n",
        "numbers.remove(3)\n",
        "\n",
        "# Print the updated list\n",
        "print(\"Updated list:\", numbers)"
      ],
      "metadata": {
        "colab": {
          "base_uri": "https://localhost:8080/"
        },
        "id": "9lOaqrRtmEMR",
        "outputId": "dc35a589-556c-4a9f-acdf-f97ead548944"
      },
      "execution_count": 8,
      "outputs": [
        {
          "output_type": "stream",
          "name": "stdout",
          "text": [
            "Updated list: [1, 2, 4, 5]\n"
          ]
        }
      ]
    },
    {
      "cell_type": "markdown",
      "source": [
        "9.  **Write a code to access the second element in the list ['a', 'b', 'c', 'd'].**"
      ],
      "metadata": {
        "id": "5zs5Mrs4mc_3"
      }
    },
    {
      "cell_type": "code",
      "source": [
        "# Define the list\n",
        "letters = ['a', 'b', 'c', 'd']\n",
        "\n",
        "# Access the second element (index 1)\n",
        "second_element = letters[1]\n",
        "\n",
        "# Print the result\n",
        "print(\"The second element is:\", second_element)"
      ],
      "metadata": {
        "colab": {
          "base_uri": "https://localhost:8080/"
        },
        "id": "3eF2bcWFmaWi",
        "outputId": "a2ed979b-20eb-4e37-eb5b-504724e4b367"
      },
      "execution_count": 9,
      "outputs": [
        {
          "output_type": "stream",
          "name": "stdout",
          "text": [
            "The second element is: b\n"
          ]
        }
      ]
    },
    {
      "cell_type": "markdown",
      "source": [
        "10.   **Write a code to reverse the list [10, 20, 30, 40, 50].**"
      ],
      "metadata": {
        "id": "A2l9ITPLnEzy"
      }
    },
    {
      "cell_type": "code",
      "source": [
        "# Original list\n",
        "numbers = [10, 20, 30, 40, 50]\n",
        "\n",
        "# Reverse the list\n",
        "numbers.reverse()\n",
        "\n",
        "# Print the reversed list\n",
        "print(\"Reversed list:\", numbers)"
      ],
      "metadata": {
        "colab": {
          "base_uri": "https://localhost:8080/"
        },
        "id": "z86Dynu7m-rC",
        "outputId": "2b3a63fb-4c8a-4bc7-88bd-75aa56c4fe31"
      },
      "execution_count": 10,
      "outputs": [
        {
          "output_type": "stream",
          "name": "stdout",
          "text": [
            "Reversed list: [50, 40, 30, 20, 10]\n"
          ]
        }
      ]
    },
    {
      "cell_type": "markdown",
      "source": [
        "11.   **Write a code to create a tuple with the elements 100, 200, 300 and print it.**"
      ],
      "metadata": {
        "id": "Oos_JcQOoa6d"
      }
    },
    {
      "cell_type": "code",
      "source": [
        "# Create a tuple\n",
        "my_tuple = (100, 200, 300)\n",
        "\n",
        "# Print the tuple\n",
        "print(\"The tuple is:\", my_tuple)"
      ],
      "metadata": {
        "colab": {
          "base_uri": "https://localhost:8080/"
        },
        "id": "nFMULRZ4oVWU",
        "outputId": "3c8a5684-1ec9-44a9-d9e2-cb9eadd4f150"
      },
      "execution_count": 11,
      "outputs": [
        {
          "output_type": "stream",
          "name": "stdout",
          "text": [
            "The tuple is: (100, 200, 300)\n"
          ]
        }
      ]
    },
    {
      "cell_type": "markdown",
      "source": [
        "12.    **Write a code to access the second-to-last element of the tuple ('red', 'green', 'blue', 'yellow').**"
      ],
      "metadata": {
        "id": "fS2l5uf6sSgo"
      }
    },
    {
      "cell_type": "code",
      "source": [
        "# Define the tuple\n",
        "colors = ('red', 'green', 'blue', 'yellow')\n",
        "\n",
        "# Access the second-to-last element using negative indexing\n",
        "second_last = colors[-2]\n",
        "\n",
        "# Print the result\n",
        "print(\"The second-to-last element is:\", second_last)"
      ],
      "metadata": {
        "colab": {
          "base_uri": "https://localhost:8080/"
        },
        "id": "kEOTbVyHsGuR",
        "outputId": "c1796f44-5a08-45d1-e10e-6607e1e6d607"
      },
      "execution_count": 12,
      "outputs": [
        {
          "output_type": "stream",
          "name": "stdout",
          "text": [
            "The second-to-last element is: blue\n"
          ]
        }
      ]
    },
    {
      "cell_type": "markdown",
      "source": [
        "13.    **Write a code to find the minimum number in the tuple (10, 20, 5, 15).**"
      ],
      "metadata": {
        "id": "4UC8hNIusk2x"
      }
    },
    {
      "cell_type": "code",
      "source": [
        "# Define the tuple\n",
        "numbers = (10, 20, 5, 15)\n",
        "\n",
        "# Find the minimum number using min() function\n",
        "minimum = min(numbers)\n",
        "\n",
        "# Print the result\n",
        "print(\"The minimum number is:\", minimum)"
      ],
      "metadata": {
        "colab": {
          "base_uri": "https://localhost:8080/"
        },
        "id": "2CE1ucx_sc6C",
        "outputId": "9efffcbc-b674-4366-9072-baa4b4084d7e"
      },
      "execution_count": 13,
      "outputs": [
        {
          "output_type": "stream",
          "name": "stdout",
          "text": [
            "The minimum number is: 5\n"
          ]
        }
      ]
    },
    {
      "cell_type": "markdown",
      "source": [
        "14.   **Write a code to find the index of the element \"cat\" in the tuple ('dog', 'cat', 'rabbit').**"
      ],
      "metadata": {
        "id": "oUzMI3xvs0sC"
      }
    },
    {
      "cell_type": "code",
      "source": [
        "# Define the tuple\n",
        "animals = ('dog', 'cat', 'rabbit')\n",
        "\n",
        "# Find the index of \"cat\"\n",
        "index_of_cat = animals.index(\"cat\")\n",
        "\n",
        "# Print the result\n",
        "print(\"The index of 'cat' is:\", index_of_cat)"
      ],
      "metadata": {
        "colab": {
          "base_uri": "https://localhost:8080/"
        },
        "id": "k6EY9vthsvc-",
        "outputId": "7c3df7c2-e78a-45b0-af1d-0ab4293cfec9"
      },
      "execution_count": 14,
      "outputs": [
        {
          "output_type": "stream",
          "name": "stdout",
          "text": [
            "The index of 'cat' is: 1\n"
          ]
        }
      ]
    },
    {
      "cell_type": "markdown",
      "source": [
        "15.   **Write a code to create a tuple containing three different fruits and check if \"kiwi\" is in it.**"
      ],
      "metadata": {
        "id": "AOy1KK7QtI-M"
      }
    },
    {
      "cell_type": "code",
      "source": [
        "# Create a tuple with fruits\n",
        "fruits = (\"apple\", \"banana\", \"mango\")\n",
        "\n",
        "# Check if \"kiwi\" is in the tuple\n",
        "if \"kiwi\" in fruits:\n",
        "    print(\"Kiwi is in the tuple.\")\n",
        "else:\n",
        "    print(\"Kiwi is not in the tuple.\")"
      ],
      "metadata": {
        "colab": {
          "base_uri": "https://localhost:8080/"
        },
        "id": "t_t1VPN-tDaY",
        "outputId": "4860a0ed-39c9-46ba-d423-33808377316c"
      },
      "execution_count": 15,
      "outputs": [
        {
          "output_type": "stream",
          "name": "stdout",
          "text": [
            "Kiwi is not in the tuple.\n"
          ]
        }
      ]
    },
    {
      "cell_type": "markdown",
      "source": [
        "16. **Write a code to create a set with the elements 'a', 'b', 'c' and print it.**"
      ],
      "metadata": {
        "id": "T0nIBzoDtvp6"
      }
    },
    {
      "cell_type": "code",
      "source": [
        "# Create a set\n",
        "my_set = {'a', 'b', 'c'}\n",
        "\n",
        "# Print the set\n",
        "print(\"The set is:\", my_set)"
      ],
      "metadata": {
        "colab": {
          "base_uri": "https://localhost:8080/"
        },
        "id": "ZsJ5waFptrva",
        "outputId": "2f796715-88d0-4d00-a35d-a81c299c16de"
      },
      "execution_count": 17,
      "outputs": [
        {
          "output_type": "stream",
          "name": "stdout",
          "text": [
            "The set is: {'c', 'a', 'b'}\n"
          ]
        }
      ]
    },
    {
      "cell_type": "markdown",
      "source": [
        "17.  **Write a code to clear all elements from the set {1, 2, 3, 4, 5}.**"
      ],
      "metadata": {
        "id": "5DG2hOSwulos"
      }
    },
    {
      "cell_type": "code",
      "source": [
        "# Define the set\n",
        "my_set = {1, 2, 3, 4, 5}\n",
        "\n",
        "# Clear all elements\n",
        "my_set.clear()\n",
        "\n",
        "# Print the updated set\n",
        "print(\"The set after clearing:\", my_set)"
      ],
      "metadata": {
        "colab": {
          "base_uri": "https://localhost:8080/"
        },
        "id": "Wc9EFOf2uWBw",
        "outputId": "b92c7b88-ce48-4153-f41e-da0eda0f6fc4"
      },
      "execution_count": 18,
      "outputs": [
        {
          "output_type": "stream",
          "name": "stdout",
          "text": [
            "The set after clearing: set()\n"
          ]
        }
      ]
    },
    {
      "cell_type": "markdown",
      "source": [
        "18.   **Write a code to remove the element 4 from the set {1, 2, 3, 4}.**"
      ],
      "metadata": {
        "id": "gQ0h6r3HvYMy"
      }
    },
    {
      "cell_type": "code",
      "source": [
        "# Define the set\n",
        "my_set = {1, 2, 3, 4}\n",
        "\n",
        "# Remove the element 4\n",
        "my_set.remove(4)\n",
        "\n",
        "# Print the updated set\n",
        "print(\"Set after removing 4:\", my_set)"
      ],
      "metadata": {
        "colab": {
          "base_uri": "https://localhost:8080/"
        },
        "id": "BY0YaLACvPMp",
        "outputId": "f49104d8-19d1-491c-fe2f-6bdc5cfba7d6"
      },
      "execution_count": 19,
      "outputs": [
        {
          "output_type": "stream",
          "name": "stdout",
          "text": [
            "Set after removing 4: {1, 2, 3}\n"
          ]
        }
      ]
    },
    {
      "cell_type": "markdown",
      "source": [
        "19.   **Write a code to find the union of two sets {1, 2, 3} and {3, 4, 5}.**"
      ],
      "metadata": {
        "id": "hyLjCuXTv3zs"
      }
    },
    {
      "cell_type": "code",
      "source": [
        "# Define the sets\n",
        "set1 = {1, 2, 3}\n",
        "set2 = {3, 4, 5}\n",
        "\n",
        "# Find the union\n",
        "union_set = set1.union(set2)\n",
        "\n",
        "# Print the result\n",
        "print(\"The union of the sets is:\", union_set)"
      ],
      "metadata": {
        "colab": {
          "base_uri": "https://localhost:8080/"
        },
        "id": "MfGBxqYZvvfn",
        "outputId": "9cb1f81b-8d04-426b-a9e9-ad697e677020"
      },
      "execution_count": 20,
      "outputs": [
        {
          "output_type": "stream",
          "name": "stdout",
          "text": [
            "The union of the sets is: {1, 2, 3, 4, 5}\n"
          ]
        }
      ]
    },
    {
      "cell_type": "markdown",
      "source": [
        "20.   **Write a code to find the intersection of two sets {1, 2, 3} and {2, 3, 4}.**"
      ],
      "metadata": {
        "id": "s-0xx4_XwNHC"
      }
    },
    {
      "cell_type": "code",
      "source": [
        "# Define the sets\n",
        "set1 = {1, 2, 3}\n",
        "set2 = {2, 3, 4}\n",
        "\n",
        "# Find the intersection\n",
        "intersection_set = set1.intersection(set2)\n",
        "\n",
        "# Print the result\n",
        "print(\"The intersection of the sets is:\", intersection_set)"
      ],
      "metadata": {
        "colab": {
          "base_uri": "https://localhost:8080/"
        },
        "id": "-D8AGcKowKDJ",
        "outputId": "da02ae66-0810-4bd2-edc8-36355f1a8ebf"
      },
      "execution_count": 21,
      "outputs": [
        {
          "output_type": "stream",
          "name": "stdout",
          "text": [
            "The intersection of the sets is: {2, 3}\n"
          ]
        }
      ]
    },
    {
      "cell_type": "markdown",
      "source": [
        "21.   **Write a code to create a dictionary with the keys \"name\", \"age\", and \"city\", and print it.**"
      ],
      "metadata": {
        "id": "JGlg0H8qwegr"
      }
    },
    {
      "cell_type": "code",
      "source": [
        "# Create the dictionary\n",
        "person = {\n",
        "    \"name\": \"Sumit\",\n",
        "    \"age\": 25,\n",
        "    \"city\": \"Delhi\"\n",
        "}\n",
        "\n",
        "# Print the dictionary\n",
        "print(\"Dictionary:\", person)"
      ],
      "metadata": {
        "colab": {
          "base_uri": "https://localhost:8080/"
        },
        "id": "7ETALfRkwa41",
        "outputId": "7197a71e-02da-4bfa-e418-74f29103026e"
      },
      "execution_count": 22,
      "outputs": [
        {
          "output_type": "stream",
          "name": "stdout",
          "text": [
            "Dictionary: {'name': 'Sumit', 'age': 25, 'city': 'Delhi'}\n"
          ]
        }
      ]
    },
    {
      "cell_type": "markdown",
      "source": [
        "22.   **Write a code to add a new key-value pair \"country\": \"USA\" to the dictionary {'name': 'John', 'age': 25}.**"
      ],
      "metadata": {
        "id": "q9y9vDKCw2H0"
      }
    },
    {
      "cell_type": "code",
      "source": [
        "# Original dictionary\n",
        "person = {'name': 'John', 'age': 25}\n",
        "\n",
        "# Add a new key-value pair\n",
        "person['country'] = 'USA'\n",
        "\n",
        "# Print the updated dictionary\n",
        "print(\"Updated dictionary:\", person)"
      ],
      "metadata": {
        "colab": {
          "base_uri": "https://localhost:8080/"
        },
        "id": "QsReRsjWwsop",
        "outputId": "0884ee7c-7430-4e25-bb29-5414081d8a46"
      },
      "execution_count": 23,
      "outputs": [
        {
          "output_type": "stream",
          "name": "stdout",
          "text": [
            "Updated dictionary: {'name': 'John', 'age': 25, 'country': 'USA'}\n"
          ]
        }
      ]
    },
    {
      "cell_type": "markdown",
      "source": [
        " 23.  **Write a code to access the value associated with the key \"name\" in the dictionary {'name': 'Alice', 'age': 30}.**"
      ],
      "metadata": {
        "id": "y58FhUuIxqrW"
      }
    },
    {
      "cell_type": "code",
      "source": [
        "# Define the dictionary\n",
        "person = {'name': 'Alice', 'age': 30}\n",
        "\n",
        "# Access the value for the key \"name\"\n",
        "name_value = person['name']\n",
        "\n",
        "# Print the result\n",
        "print(\"The name is:\", name_value)"
      ],
      "metadata": {
        "colab": {
          "base_uri": "https://localhost:8080/"
        },
        "id": "r141OQngxk82",
        "outputId": "9766bc93-9b0e-4b65-c24c-a40232316b62"
      },
      "execution_count": 24,
      "outputs": [
        {
          "output_type": "stream",
          "name": "stdout",
          "text": [
            "The name is: Alice\n"
          ]
        }
      ]
    },
    {
      "cell_type": "markdown",
      "source": [
        "24.   **Write a code to remove the key \"age\" from the dictionary {'name': 'Bob', 'age': 22, 'city': 'New York'}.**"
      ],
      "metadata": {
        "id": "K1LN6YOgyWlq"
      }
    },
    {
      "cell_type": "code",
      "source": [
        "# Define the dictionary\n",
        "person = {'name': 'Bob', 'age': 22, 'city': 'New York'}\n",
        "\n",
        "# Remove the key \"age\"\n",
        "del person['age']\n",
        "\n",
        "# Print the updated dictionary\n",
        "print(\"Updated dictionary:\", person)"
      ],
      "metadata": {
        "colab": {
          "base_uri": "https://localhost:8080/"
        },
        "id": "e0Qf8IM4yPqD",
        "outputId": "caa97020-3f0d-4a1b-b001-d2d44129a928"
      },
      "execution_count": 25,
      "outputs": [
        {
          "output_type": "stream",
          "name": "stdout",
          "text": [
            "Updated dictionary: {'name': 'Bob', 'city': 'New York'}\n"
          ]
        }
      ]
    },
    {
      "cell_type": "markdown",
      "source": [
        "25.   **Write a code to check if the key \"city\" exists in the dictionary {'name': 'Alice', 'city': 'Paris'}.**"
      ],
      "metadata": {
        "id": "NSq0HL4Ly5Ok"
      }
    },
    {
      "cell_type": "code",
      "source": [
        "# Define the dictionary\n",
        "person = {'name': 'Alice', 'city': 'Paris'}\n",
        "\n",
        "# Check if \"city\" key exists\n",
        "if 'city' in person:\n",
        "    print(\"The key 'city' exists in the dictionary.\")\n",
        "else:\n",
        "    print(\"The key 'city' does not exist in the dictionary.\")"
      ],
      "metadata": {
        "colab": {
          "base_uri": "https://localhost:8080/"
        },
        "id": "JDm95ckmyuse",
        "outputId": "b6d69f71-aac8-4882-bbfa-ef8d6f5846af"
      },
      "execution_count": 26,
      "outputs": [
        {
          "output_type": "stream",
          "name": "stdout",
          "text": [
            "The key 'city' exists in the dictionary.\n"
          ]
        }
      ]
    },
    {
      "cell_type": "markdown",
      "source": [
        "26.   **Write a code to create a list, a tuple, and a dictionary, and print them all.**"
      ],
      "metadata": {
        "id": "m_HUPTJ1zW6g"
      }
    },
    {
      "cell_type": "code",
      "source": [
        "# Create a list\n",
        "my_list = [1, 2, 3, 4, 5]\n",
        "\n",
        "# Create a tuple\n",
        "my_tuple = ('a', 'b', 'c')\n",
        "\n",
        "# Create a dictionary\n",
        "my_dict = {'name': 'Sumit', 'age': 25, 'city': 'Delhi'}\n",
        "\n",
        "# Print them all\n",
        "print(\"List:\", my_list)\n",
        "print(\"Tuple:\", my_tuple)\n",
        "print(\"Dictionary:\", my_dict)"
      ],
      "metadata": {
        "colab": {
          "base_uri": "https://localhost:8080/"
        },
        "id": "w7UgnLdYzUVQ",
        "outputId": "0e98f8f7-5b98-4670-a4fc-80709e0d2348"
      },
      "execution_count": 27,
      "outputs": [
        {
          "output_type": "stream",
          "name": "stdout",
          "text": [
            "List: [1, 2, 3, 4, 5]\n",
            "Tuple: ('a', 'b', 'c')\n",
            "Dictionary: {'name': 'Sumit', 'age': 25, 'city': 'Delhi'}\n"
          ]
        }
      ]
    },
    {
      "cell_type": "markdown",
      "source": [
        "27.   **Write a code to create a list of 5 random numbers between 1 and 100, sort it in ascending order, and print the result.(replaced)**"
      ],
      "metadata": {
        "id": "4L4EIuTj0AT2"
      }
    },
    {
      "cell_type": "code",
      "source": [
        "import random\n",
        "\n",
        "# Create a list of 5 random numbers between 1 and 100\n",
        "random_numbers = [random.randint(1, 100) for _ in range(5)]\n",
        "\n",
        "# Sort the list in ascending order\n",
        "random_numbers.sort()\n",
        "\n",
        "# Print the sorted list\n",
        "print(\"Sorted random numbers:\", random_numbers)"
      ],
      "metadata": {
        "colab": {
          "base_uri": "https://localhost:8080/"
        },
        "id": "D2wVgi-Uz1rL",
        "outputId": "e9750e19-7d46-4056-c51e-4d73ff1074bb"
      },
      "execution_count": 28,
      "outputs": [
        {
          "output_type": "stream",
          "name": "stdout",
          "text": [
            "Sorted random numbers: [37, 59, 79, 91, 97]\n"
          ]
        }
      ]
    },
    {
      "cell_type": "markdown",
      "source": [
        "28.    **Write a code to create a list with strings and print the element at the third index.**"
      ],
      "metadata": {
        "id": "2RcKgYZb1PKq"
      }
    },
    {
      "cell_type": "code",
      "source": [
        "# Create a list of strings\n",
        "fruits = ['apple', 'banana', 'cherry', 'mango', 'orange']\n",
        "\n",
        "# Print the element at index 3\n",
        "print(\"Element at third index:\", fruits[3])"
      ],
      "metadata": {
        "colab": {
          "base_uri": "https://localhost:8080/"
        },
        "id": "4tR9SQyA1Hvn",
        "outputId": "924cc118-2e86-4342-b0e4-bb2805ce7db0"
      },
      "execution_count": 29,
      "outputs": [
        {
          "output_type": "stream",
          "name": "stdout",
          "text": [
            "Element at third index: mango\n"
          ]
        }
      ]
    },
    {
      "cell_type": "markdown",
      "source": [
        "29.  **Write a code to combine two dictionaries into one and print the result.**"
      ],
      "metadata": {
        "id": "kT0EY4z12IHi"
      }
    },
    {
      "cell_type": "code",
      "source": [
        "# Define the first dictionary\n",
        "dict1 = {'name': 'Alice', 'age': 30}\n",
        "\n",
        "# Define the second dictionary\n",
        "dict2 = {'city': 'Paris', 'country': 'France'}\n",
        "\n",
        "# Combine the dictionaries\n",
        "combined_dict = {**dict1, **dict2}\n",
        "\n",
        "# Print the result\n",
        "print(\"Combined dictionary:\", combined_dict)"
      ],
      "metadata": {
        "colab": {
          "base_uri": "https://localhost:8080/"
        },
        "id": "-P5JaBx32F1q",
        "outputId": "da3995c5-8009-4890-99bb-56c6b70019aa"
      },
      "execution_count": 30,
      "outputs": [
        {
          "output_type": "stream",
          "name": "stdout",
          "text": [
            "Combined dictionary: {'name': 'Alice', 'age': 30, 'city': 'Paris', 'country': 'France'}\n"
          ]
        }
      ]
    },
    {
      "cell_type": "markdown",
      "source": [
        "30.  **Write a code to convert a list of strings into a set.**"
      ],
      "metadata": {
        "id": "bBdkxP-H2dsz"
      }
    },
    {
      "cell_type": "code",
      "source": [
        "# Create a list of strings\n",
        "string_list = ['apple', 'banana', 'cherry', 'apple', 'banana']\n",
        "\n",
        "# Convert the list to a set\n",
        "string_set = set(string_list)\n",
        "\n",
        "# Print the result\n",
        "print(\"Set:\", string_set)"
      ],
      "metadata": {
        "colab": {
          "base_uri": "https://localhost:8080/"
        },
        "id": "npzTcAMa2anu",
        "outputId": "187f1b89-f4f2-4c43-d5ae-9a36d760d978"
      },
      "execution_count": 31,
      "outputs": [
        {
          "output_type": "stream",
          "name": "stdout",
          "text": [
            "Set: {'banana', 'apple', 'cherry'}\n"
          ]
        }
      ]
    },
    {
      "cell_type": "code",
      "source": [],
      "metadata": {
        "id": "VdCFCrvn3Tvu"
      },
      "execution_count": null,
      "outputs": []
    }
  ]
}